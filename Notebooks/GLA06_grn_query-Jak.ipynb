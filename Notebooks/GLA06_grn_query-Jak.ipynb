{
 "cells": [
  {
   "cell_type": "markdown",
   "metadata": {},
   "source": [
    "## Spatial Query of GLA06 Data for Greenland\n",
    "\n",
    "Set up a grid cell query for Jakobshavn."
   ]
  },
  {
   "cell_type": "code",
   "execution_count": 2,
   "metadata": {
    "collapsed": false
   },
   "outputs": [
    {
     "name": "stdout",
     "output_type": "stream",
     "text": [
      "ST_MakePolygon(ST_GeomFromText('LINESTRING(-291000.0 -2371000.0,-291000.0 -2189000.0,-500.0 -2189000.0,-500.0 -2371000.0,-291000.0 -2371000.0)',3413))\n"
     ]
    }
   ],
   "source": [
    "%matplotlib inline\n",
    "import numpy as np\n",
    "from matplotlib import pyplot as plt\n",
    "from osgeo import osr, gdal, ogr\n",
    "\n",
    "# try to display same using basemap\n",
    "from mpl_toolkits.basemap import Basemap\n",
    "\n",
    "\n",
    "# an approximate box in lat-lon\n",
    "jak_lon_ll = -52.\n",
    "jak_lat_ll = 68.2\n",
    "jak_lon_ur = -45.\n",
    "jak_lat_ur = 70.\n",
    "\n",
    "# here's the approx. bounding box in PS\n",
    "jak_psx_ll = -291000.\n",
    "jak_psy_ll = -2371000.\n",
    "jak_psx_ur = -500.\n",
    "jak_psy_ur = -2189000.\n",
    "jak_bbox=(jak_psx_ll, jak_psy_ll, jak_psx_ur, jak_psy_ur)\n",
    "\n",
    "psx_ll, psy_ll, psx_ur, psy_ur = jak_bbox\n",
    "\n",
    "          \n",
    "coords = \"{0} {1},\".format(psx_ll, psy_ll) + \\\n",
    "    \"{0} {1},\".format(psx_ll, psy_ur) + \\\n",
    "    \"{0} {1},\".format(psx_ur, psy_ur) + \\\n",
    "    \"{0} {1},\".format(psx_ur, psy_ll) + \\\n",
    "    \"{0} {1}\".format(psx_ll, psy_ll)\n",
    "    \n",
    "bbox = \"ST_MakePolygon(ST_GeomFromText('LINESTRING({0})',3413))\".format(coords)\n",
    "print bbox"
   ]
  },
  {
   "cell_type": "markdown",
   "metadata": {
    "collapsed": true
   },
   "source": [
    "Given this polygon the SQL query to extract the point would be something like the following:\n",
    "\n",
    "    select count(*) from gla06_034_grn where\n",
    "    ST_Contains(ST_MakePolygon(ST_GeomFromText('LINESTRING(-291000.0 -2371000.0,\n",
    "            -291000.0 -2189000.0,-500.0 -2189000.0,-500.0 -2371000.0,\n",
    "            -291000.0 -2371000.0)',3413)),\n",
    "    the_geom);\n",
    "    \n",
    "The `gla06_034_grn` table has about 45 million rows.  This query took about .7 seconds and returned 221,775 rows.  "
   ]
  },
  {
   "cell_type": "code",
   "execution_count": 4,
   "metadata": {
    "collapsed": false
   },
   "outputs": [
    {
     "name": "stdout",
     "output_type": "stream",
     "text": [
      "290 181\n"
     ]
    }
   ],
   "source": [
    "# set up a grid \n",
    "gridsize = 1000.\n",
    "jak_xvals = np.arange(jak_psx_ll + gridsize/2., jak_psx_ur - gridsize/2., gridsize)\n",
    "jak_yvals = np.arange(jak_psy_ll + gridsize/2., jak_psy_ur - gridsize/2., gridsize)\n",
    "nx = len(jak_xvals)\n",
    "ny = len(jak_yvals)\n",
    "print nx, ny"
   ]
  },
  {
   "cell_type": "code",
   "execution_count": 5,
   "metadata": {
    "collapsed": true
   },
   "outputs": [],
   "source": [
    "EPSG_CODE = 3413\n",
    "def gridcell2poly(cellcntr, cellsize):\n",
    "    \"\"\"\n",
    "    Create a postGIS WKT Polygon geometry for a grid cell.  The cell\n",
    "    center is given as a list of X and Y values.  The cell size is a\n",
    "    list of dX and dY values.  The returned value is a string.\n",
    "\n",
    "    Here's an example WKT Polygon string:\n",
    "\n",
    "    ST_MakePolygon(\n",
    "      ST_GeomFromText(\n",
    "      'LINESTRING(75.15 29.53,77 29,77.6 29.5, 75.15 29.53)',\n",
    "      4326));\n",
    "\n",
    "    (I've added line breaks to make this readable.)\n",
    "    \"\"\"\n",
    "    xcntr, ycntr = cellcntr\n",
    "    deltax, deltay = cellsize\n",
    "\n",
    "    points = [[xcntr-deltax, ycntr+deltay],\n",
    "              [xcntr+deltax, ycntr+deltay],\n",
    "              [xcntr+deltax, ycntr-deltay],\n",
    "              [xcntr-deltax, ycntr-deltay],\n",
    "              [xcntr-deltax, ycntr+deltay]]\n",
    "\n",
    "    coordlist = [\"{0} {1}\".format(x[0], x[1]) for x in points]\n",
    "    coordstr = \",\".join(coordlist)\n",
    "    polygeom = \"ST_MakePolygon(ST_GeomFromText\" + \\\n",
    "               \"('LINESTRING({0})',{1}))\".format( coordstr,\n",
    "                                                  EPSG_CODE)\n",
    "\n",
    "    return polygeom"
   ]
  },
  {
   "cell_type": "code",
   "execution_count": 11,
   "metadata": {
    "collapsed": true
   },
   "outputs": [],
   "source": [
    "import psycopg2\n",
    "import numpy as np\n",
    "\n",
    "DBNAME = 'icedb'\n",
    "DBHOST = 'icebridge.sr.unh.edu'\n",
    "DBUSER = 'nobody'\n",
    "DBPORT = '5432'\n",
    "EPSG_CODE = 3413\n",
    "\n",
    "# make database connection\n",
    "conn_str = 'host={0} dbname={1} user={2}'.format(DBHOST, DBNAME, DBUSER)\n",
    "try:\n",
    "    conn = psycopg2.connect(conn_str)\n",
    "except:\n",
    "    print \"connection to database failed\""
   ]
  },
  {
   "cell_type": "code",
   "execution_count": 19,
   "metadata": {
    "collapsed": false
   },
   "outputs": [
    {
     "name": "stdout",
     "output_type": "stream",
     "text": [
      "(181, 290)\n",
      "0\n"
     ]
    }
   ],
   "source": [
    "# set up output array for results\n",
    "outarr = np.zeros([ny,nx],np.int)\n",
    "print outarr.shape\n",
    "\n",
    "# set up cursor for query\n",
    "mycur = conn.cursor()\n",
    "\n",
    "\n",
    "# loop over x and y\n",
    "for psy in jak_yvals:\n",
    "    for psx in jak_xvals:\n",
    "        bbox = gridcell2poly([psx, psy], [gridsize, gridsize])\n",
    "        mycur = conn.cursor()\n",
    "        query = \"select count(*) from gla06_034_grn where ST_Contains({0},the_geom);\"\n",
    "        query = query.format(bbox)\n",
    "        mycur.execute(query)\n",
    "        results = mycur.fetchall()\n",
    "        print results[0][0]\n",
    "        break\n",
    "    break\n",
    "    \n",
    "mycur.close()"
   ]
  },
  {
   "cell_type": "code",
   "execution_count": null,
   "metadata": {
    "collapsed": true
   },
   "outputs": [],
   "source": [
    "# set up query\n"
   ]
  }
 ],
 "metadata": {
  "kernelspec": {
   "display_name": "Python 2",
   "language": "python",
   "name": "python2"
  },
  "language_info": {
   "codemirror_mode": {
    "name": "ipython",
    "version": 2
   },
   "file_extension": ".py",
   "mimetype": "text/x-python",
   "name": "python",
   "nbconvert_exporter": "python",
   "pygments_lexer": "ipython2",
   "version": "2.7.9"
  }
 },
 "nbformat": 4,
 "nbformat_minor": 0
}
