{
 "cells": [
  {
   "cell_type": "markdown",
   "metadata": {},
   "source": [
    "## Spatial Query of ICESSN data\n",
    "\n",
    "Just some notes on making a query in postGIS using a bounding box in one projection where the geometry column for the data is in another projection.  Start by finding the Polar Stereo coordinates of a point in Jakobshavn Fjord.  The query the ATM ICESSN data from the atm_icessn_grn table for a box around that point.\n",
    "\n",
    "To make it even easier I'm just starting with a box in PS coords."
   ]
  },
  {
   "cell_type": "code",
   "execution_count": 1,
   "metadata": {
    "collapsed": false
   },
   "outputs": [
    {
     "name": "stdout",
     "output_type": "stream",
     "text": [
      "ST_MakePolygon(ST_GeomFromText('LINESTRING(-212483.24 -2334797.72,-212483.24 -2209489.29,-57857.51 -2209489.29,-57857.51 -2334797.72,-212483.24 -2334797.72)',3413))\n"
     ]
    }
   ],
   "source": [
    "# just use some python to create a bounding box string\n",
    "jak_bbox=(-212483.24,-2334797.72,-57857.51,-2209489.29)\n",
    "\n",
    "psx_ll, psy_ll, psx_ur, psy_ur = jak_bbox\n",
    "\n",
    "coords = \"{0} {1},\".format(psx_ll, psy_ll) + \\\n",
    "    \"{0} {1},\".format(psx_ll, psy_ur) + \\\n",
    "    \"{0} {1},\".format(psx_ur, psy_ur) + \\\n",
    "    \"{0} {1},\".format(psx_ur, psy_ll) + \\\n",
    "    \"{0} {1}\".format(psx_ll, psy_ll)\n",
    "    \n",
    "bbox = \"ST_MakePolygon(ST_GeomFromText('LINESTRING({0})',3413))\".format(coords)\n",
    "print bbox"
   ]
  },
  {
   "cell_type": "markdown",
   "metadata": {
    "collapsed": true
   },
   "source": [
    "Given this polygon the SQL query to extract the point would be something like the following:\n",
    "\n",
    "    select count(*) from atm_icessn_grn where\n",
    "    ST_Contains(ST_MakePolygon(ST_GeomFromText(\n",
    "    'LINESTRING(-212483.24 -2334797.72,-212483.24 -2209489.29,-57857.51 \n",
    "    -2209489.29,-57857.51 -2334797.72,-212483.24 -2334797.72)',3413)),\n",
    "    ST_Transform(the_geom,3413));\n",
    "    \n",
    "Note this is a rather large box around a rather well sampled region.  The above query returned, 7153749 rows (when this notebooks was created.)  Find the middle point then create a smaller box (1km x 1km ?) and retry query."
   ]
  },
  {
   "cell_type": "code",
   "execution_count": 2,
   "metadata": {
    "collapsed": false
   },
   "outputs": [
    {
     "name": "stdout",
     "output_type": "stream",
     "text": [
      "-135170.375 -2272143.505\n",
      "ST_MakePolygon(ST_GeomFromText('LINESTRING(-135670.375 -2272643.505,-135670.375 -2271643.505,-134670.375 -2271643.505,-134670.375 -2272643.505,-135670.375 -2272643.505)',3413))\n"
     ]
    }
   ],
   "source": [
    "cntr_x = jak_bbox[0] + (jak_bbox[2] - jak_bbox[0])/2.\n",
    "cntr_y = jak_bbox[1] + (jak_bbox[3] - jak_bbox[1])/2.\n",
    "print cntr_x, cntr_y\n",
    "\n",
    "grid_xsize = 1000\n",
    "grid_ysize = 1000\n",
    "grid_dx = grid_xsize / 2.\n",
    "grid_dy = grid_ysize / 2.\n",
    "jak_bbox = [cntr_x - grid_dx, cntr_y - grid_dy, cntr_x + grid_dx, cntr_y + grid_dy]\n",
    "\n",
    "lon_ll, lat_ll, lon_ur, lat_ur = jak_bbox\n",
    "\n",
    "coords = \"{0} {1},\".format(lon_ll, lat_ll) + \\\n",
    "    \"{0} {1},\".format(lon_ll, lat_ur) + \\\n",
    "    \"{0} {1},\".format(lon_ur, lat_ur) + \\\n",
    "    \"{0} {1},\".format(lon_ur, lat_ll) + \\\n",
    "    \"{0} {1}\".format(lon_ll, lat_ll)\n",
    "    \n",
    "bbox = \"ST_MakePolygon(ST_GeomFromText('LINESTRING({0})',3413))\".format(coords)\n",
    "print bbox"
   ]
  },
  {
   "cell_type": "markdown",
   "metadata": {},
   "source": [
    "This query resulted in 2410 rows returned.  That's a more manageable number but we could probably go even smaller.  For this \"gridcell\" we get 19 unique dates:\n",
    "\n",
    "    icedb=> select distinct(fltdate) from atm_icessn_grn where\n",
    "    ST_Contains(ST_MakePolygon(ST_GeomFromText('LINESTRING(-135670.375 -2272643.505,\n",
    "    -135670.375 -2271643.505,-134670.375 -2271643.505,-134670.375 -2272643.505,\n",
    "    -135670.375 -2272643.505)',3413)),ST_Transform(the_geom,3413)) order by fltdate;\n",
    "    fltdate   \n",
    "    ------------\n",
    "     2001-05-27\n",
    "     2003-05-11\n",
    "     2005-05-14\n",
    "     2006-05-26\n",
    "     2006-05-27\n",
    "     2006-05-28\n",
    "     2006-05-29\n",
    "     2007-05-10\n",
    "     2008-07-10\n",
    "     2008-07-22\n",
    "     2009-04-27\n",
    "     2010-05-14\n",
    "     2011-04-06\n",
    "     2011-04-08\n",
    "     2012-04-21\n",
    "     2013-04-04\n",
    "     2013-04-10\n",
    "     2014-04-09\n",
    "     2014-04-19\n",
    "    (19 rows)\n",
    "\n",
    "Our goal is to difference the surface elevation from each of these 2410 shots with the GIMP DEM elevation at that location AND come up with a measure of the difference between the surface at each date and GIMP.  That could be as simple as the mean and standard deviation of all the difference.  Or a weighted mean and standard deviation where the weight is the normalized inverse distance from the cell center.\n",
    "\n",
    "Set up a database query to retrieve the data"
   ]
  },
  {
   "cell_type": "code",
   "execution_count": 3,
   "metadata": {
    "collapsed": true
   },
   "outputs": [],
   "source": [
    "import psycopg2\n",
    "import numpy as np\n",
    "\n",
    "DBNAME = 'icedb'\n",
    "DBHOST = 'icebridge.sr.unh.edu'\n",
    "DBUSER = 'nobody'\n",
    "DBPORT = '5432'\n",
    "EPSG_CODE = 3413\n",
    "\n",
    "# make database connection\n",
    "conn_str = 'host={0} dbname={1} user={2}'.format(DBHOST, DBNAME, DBUSER)\n",
    "try:\n",
    "    conn = psycopg2.connect(conn_str)\n",
    "except:\n",
    "    print \"connection to database failed\""
   ]
  },
  {
   "cell_type": "code",
   "execution_count": 4,
   "metadata": {
    "collapsed": false,
    "scrolled": false
   },
   "outputs": [
    {
     "name": "stdout",
     "output_type": "stream",
     "text": [
      "[(2410L,)]\n"
     ]
    }
   ],
   "source": [
    "# set up cursor for query\n",
    "mycur = conn.cursor()\n",
    "query = \"select count(*) from atm_icessn_grn where ST_Contains({0},\" + \\\n",
    "        \"ST_Transform(the_geom,3413));\"\n",
    "query = query.format(bbox)\n",
    "\n",
    "mycur.execute(query)\n",
    "results = mycur.fetchall()\n",
    "print results\n",
    "mycur.close()"
   ]
  },
  {
   "cell_type": "markdown",
   "metadata": {
    "collapsed": true
   },
   "source": [
    "Okay, I've added a `wgs84surf` column using the GIMP 30m DEM to the table.  So try to query the elevation, surface, and wgs84surf values from for the small box."
   ]
  },
  {
   "cell_type": "code",
   "execution_count": null,
   "metadata": {
    "collapsed": false
   },
   "outputs": [],
   "source": [
    "mycur = conn.cursor()\n",
    "query = \"select lat, lon, fltdate, height, wgs84surf from atm_icessn_grn \" + \\\n",
    "    \"where ST_Contains({0},ST_Transform(the_geom,3413));\"\n",
    "query = query.format(bbox)\n",
    "print query\n",
    "mycur.execute(query)\n",
    "results = mycur.fetchall()\n",
    "mycur.close()\n",
    "print results[0]"
   ]
  },
  {
   "cell_type": "markdown",
   "metadata": {
    "collapsed": false
   },
   "source": [
    "This query takes about 290 seconds.  Which is pretty long.  Using the postgresql `EXPLAIN` command it is pretty clear that the query plan is just doing a sequential scan of all the rows in the table.  Right now there are 93,543,342 rows!  To speed up the query we can try to make use of the GIST index on the table.  "
   ]
  },
  {
   "cell_type": "code",
   "execution_count": 5,
   "metadata": {
    "collapsed": false
   },
   "outputs": [
    {
     "name": "stdout",
     "output_type": "stream",
     "text": [
      "select lat, lon, fltdate, height, wgs84surf from atm_icessn_grn where ST_DWithin(ST_GeometryFromText('POINT(-48.40453 69.21005)',4326), the_geom, .25) and ST_Contains(ST_MakePolygon(ST_GeomFromText('LINESTRING(-135670.375 -2272643.505,-135670.375 -2271643.505,-134670.375 -2271643.505,-134670.375 -2272643.505,-135670.375 -2272643.505)',3413)),ST_Transform(the_geom,3413)) order by fltdate;\n",
      "(69.205889, -48.391261, datetime.date(2001, 5, 27), 1281.55, 1261)\n"
     ]
    }
   ],
   "source": [
    "# used proj to calculat lat-lon of center point\n",
    "cntr_lon = -48.40453\n",
    "cntr_lat = 69.21005 \n",
    "\n",
    "mycur = conn.cursor()\n",
    "query_0 = \"select lat, lon, fltdate, height, wgs84surf from atm_icessn_grn \"\n",
    "query_1 = \"where ST_DWithin(ST_GeometryFromText('POINT({0} {1})',4326), the_geom, .25) \"\n",
    "query_1 = query_1.format(cntr_lon,cntr_lat)\n",
    "query_2 = \"and ST_Contains({0},ST_Transform(the_geom,3413)) order by fltdate;\".format(bbox)\n",
    "query = query_0 + query_1 + query_2\n",
    "print query\n",
    "mycur.execute(query)\n",
    "results = mycur.fetchall()\n",
    "mycur.close()\n",
    "print results[0]"
   ]
  },
  {
   "cell_type": "markdown",
   "metadata": {},
   "source": [
    "This query executed in about 24 seconds!  Almost 10 times faster.  Probably if we converted the geometry to EPSG:3413 it would go even faster.  Then we'd have everything in the same coordinate system and no projections would be required."
   ]
  },
  {
   "cell_type": "code",
   "execution_count": 6,
   "metadata": {
    "collapsed": false
   },
   "outputs": [
    {
     "name": "stdout",
     "output_type": "stream",
     "text": [
      "lat                 float64\n",
      "lon                 float64\n",
      "fltdate      datetime64[ns]\n",
      "height              float64\n",
      "wgs84surf             int64\n",
      "dtype: object\n"
     ]
    },
    {
     "data": {
      "text/html": [
       "<div>\n",
       "<table border=\"1\" class=\"dataframe\">\n",
       "  <thead>\n",
       "    <tr style=\"text-align: right;\">\n",
       "      <th></th>\n",
       "      <th>lat</th>\n",
       "      <th>lon</th>\n",
       "      <th>fltdate</th>\n",
       "      <th>height</th>\n",
       "      <th>wgs84surf</th>\n",
       "    </tr>\n",
       "  </thead>\n",
       "  <tbody>\n",
       "    <tr>\n",
       "      <th>0</th>\n",
       "      <td>69.205889</td>\n",
       "      <td>-48.391261</td>\n",
       "      <td>2001-05-27</td>\n",
       "      <td>1281.55</td>\n",
       "      <td>1261</td>\n",
       "    </tr>\n",
       "    <tr>\n",
       "      <th>1</th>\n",
       "      <td>69.211731</td>\n",
       "      <td>-48.412792</td>\n",
       "      <td>2003-05-11</td>\n",
       "      <td>1264.68</td>\n",
       "      <td>1251</td>\n",
       "    </tr>\n",
       "    <tr>\n",
       "      <th>2</th>\n",
       "      <td>69.212209</td>\n",
       "      <td>-48.413756</td>\n",
       "      <td>2003-05-11</td>\n",
       "      <td>1263.75</td>\n",
       "      <td>1250</td>\n",
       "    </tr>\n",
       "    <tr>\n",
       "      <th>3</th>\n",
       "      <td>69.211743</td>\n",
       "      <td>-48.413538</td>\n",
       "      <td>2003-05-11</td>\n",
       "      <td>1264.34</td>\n",
       "      <td>1251</td>\n",
       "    </tr>\n",
       "    <tr>\n",
       "      <th>4</th>\n",
       "      <td>69.211277</td>\n",
       "      <td>-48.413321</td>\n",
       "      <td>2003-05-11</td>\n",
       "      <td>1265.06</td>\n",
       "      <td>1251</td>\n",
       "    </tr>\n",
       "  </tbody>\n",
       "</table>\n",
       "</div>"
      ],
      "text/plain": [
       "         lat        lon    fltdate   height  wgs84surf\n",
       "0  69.205889 -48.391261 2001-05-27  1281.55       1261\n",
       "1  69.211731 -48.412792 2003-05-11  1264.68       1251\n",
       "2  69.212209 -48.413756 2003-05-11  1263.75       1250\n",
       "3  69.211743 -48.413538 2003-05-11  1264.34       1251\n",
       "4  69.211277 -48.413321 2003-05-11  1265.06       1251"
      ]
     },
     "execution_count": 6,
     "metadata": {},
     "output_type": "execute_result"
    }
   ],
   "source": [
    "import pandas as pd\n",
    "data = pd.DataFrame(results,\n",
    "                    columns=['lat','lon','fltdate','height','wgs84surf'])\n",
    "data['fltdate'] = pd.to_datetime(data['fltdate'])\n",
    "print data.dtypes\n",
    "data.head()"
   ]
  },
  {
   "cell_type": "code",
   "execution_count": 7,
   "metadata": {
    "collapsed": false
   },
   "outputs": [
    {
     "data": {
      "text/html": [
       "<div>\n",
       "<table border=\"1\" class=\"dataframe\">\n",
       "  <thead>\n",
       "    <tr style=\"text-align: right;\">\n",
       "      <th></th>\n",
       "      <th>lat</th>\n",
       "      <th>lon</th>\n",
       "      <th>fltdate</th>\n",
       "      <th>height</th>\n",
       "      <th>wgs84surf</th>\n",
       "      <th>delta</th>\n",
       "    </tr>\n",
       "  </thead>\n",
       "  <tbody>\n",
       "    <tr>\n",
       "      <th>0</th>\n",
       "      <td>69.205889</td>\n",
       "      <td>-48.391261</td>\n",
       "      <td>2001-05-27</td>\n",
       "      <td>1281.55</td>\n",
       "      <td>1261</td>\n",
       "      <td>20.55</td>\n",
       "    </tr>\n",
       "    <tr>\n",
       "      <th>1</th>\n",
       "      <td>69.211731</td>\n",
       "      <td>-48.412792</td>\n",
       "      <td>2003-05-11</td>\n",
       "      <td>1264.68</td>\n",
       "      <td>1251</td>\n",
       "      <td>13.68</td>\n",
       "    </tr>\n",
       "    <tr>\n",
       "      <th>2</th>\n",
       "      <td>69.212209</td>\n",
       "      <td>-48.413756</td>\n",
       "      <td>2003-05-11</td>\n",
       "      <td>1263.75</td>\n",
       "      <td>1250</td>\n",
       "      <td>13.75</td>\n",
       "    </tr>\n",
       "    <tr>\n",
       "      <th>3</th>\n",
       "      <td>69.211743</td>\n",
       "      <td>-48.413538</td>\n",
       "      <td>2003-05-11</td>\n",
       "      <td>1264.34</td>\n",
       "      <td>1251</td>\n",
       "      <td>13.34</td>\n",
       "    </tr>\n",
       "    <tr>\n",
       "      <th>4</th>\n",
       "      <td>69.211277</td>\n",
       "      <td>-48.413321</td>\n",
       "      <td>2003-05-11</td>\n",
       "      <td>1265.06</td>\n",
       "      <td>1251</td>\n",
       "      <td>14.06</td>\n",
       "    </tr>\n",
       "  </tbody>\n",
       "</table>\n",
       "</div>"
      ],
      "text/plain": [
       "         lat        lon    fltdate   height  wgs84surf  delta\n",
       "0  69.205889 -48.391261 2001-05-27  1281.55       1261  20.55\n",
       "1  69.211731 -48.412792 2003-05-11  1264.68       1251  13.68\n",
       "2  69.212209 -48.413756 2003-05-11  1263.75       1250  13.75\n",
       "3  69.211743 -48.413538 2003-05-11  1264.34       1251  13.34\n",
       "4  69.211277 -48.413321 2003-05-11  1265.06       1251  14.06"
      ]
     },
     "execution_count": 7,
     "metadata": {},
     "output_type": "execute_result"
    }
   ],
   "source": [
    "data['delta'] = data['height'] - data['wgs84surf']\n",
    "data.head()"
   ]
  },
  {
   "cell_type": "code",
   "execution_count": 11,
   "metadata": {
    "collapsed": false
   },
   "outputs": [
    {
     "data": {
      "text/plain": [
       "<matplotlib.collections.PathCollection at 0x108d32410>"
      ]
     },
     "execution_count": 11,
     "metadata": {},
     "output_type": "execute_result"
    },
    {
     "data": {
      "image/png": "[encoded data removed]",
      "text/plain": [
       "<matplotlib.figure.Figure at 0x1052e8f90>"
      ]
     },
     "metadata": {},
     "output_type": "display_data"
    }
   ],
   "source": [
    "%matplotlib inline\n",
    "import matplotlib.pyplot as plt\n",
    "fig = plt.figure(figsize=[12,12])\n",
    "plt.scatter(data['lat'], data['lon'])"
   ]
  },
  {
   "cell_type": "code",
   "execution_count": 9,
   "metadata": {
    "collapsed": false
   },
   "outputs": [
    {
     "data": {
      "text/plain": [
       "[<matplotlib.lines.Line2D at 0x107c4ce10>]"
      ]
     },
     "execution_count": 9,
     "metadata": {},
     "output_type": "execute_result"
    },
    {
     "data": {
      "image/png": "[encoded data removed]",
      "text/plain": [
       "<matplotlib.figure.Figure at 0x107b4b890>"
      ]
     },
     "metadata": {},
     "output_type": "display_data"
    }
   ],
   "source": [
    "plt.figure(figsize=[10,6])\n",
    "plt.plot(data['fltdate'], data['delta'],'ro')"
   ]
  },
  {
   "cell_type": "code",
   "execution_count": null,
   "metadata": {
    "collapsed": true
   },
   "outputs": [],
   "source": []
  }
 ],
 "metadata": {
  "kernelspec": {
   "display_name": "Python 2",
   "language": "python",
   "name": "python2"
  },
  "language_info": {
   "codemirror_mode": {
    "name": "ipython",
    "version": 2
   },
   "file_extension": ".py",
   "mimetype": "text/x-python",
   "name": "python",
   "nbconvert_exporter": "python",
   "pygments_lexer": "ipython2",
   "version": "2.7.9"
  }
 },
 "nbformat": 4,
 "nbformat_minor": 0
}
