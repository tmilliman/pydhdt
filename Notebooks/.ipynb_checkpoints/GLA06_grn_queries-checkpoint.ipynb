{
 "cells": [
  {
   "cell_type": "markdown",
   "metadata": {},
   "source": [
    "## Spatial Query of GLA06 Data for Greenland\n",
    "\n",
    "Because of the large volume of data, the GLA06 data were imported using a separate table for each laser epoch.  For this project I'm just interested in Greenland data so I've copied the data into a single table, `gla06_034_grn`.  I've also converted the geometry field from the original lat-lon to EPSG:3413 (north polar stereo).\n",
    "\n",
    "To make it even easier I'm just starting with a box in PS coords."
   ]
  },
  {
   "cell_type": "code",
   "execution_count": 5,
   "metadata": {
    "collapsed": false
   },
   "outputs": [
    {
     "name": "stdout",
     "output_type": "stream",
     "text": [
      "ST_MakePolygon(ST_GeomFromText('LINESTRING(-212483.24 -2334797.72,-212483.24 -2209489.29,-57857.51 -2209489.29,-57857.51 -2334797.72,-212483.24 -2334797.72)',3413))\n"
     ]
    }
   ],
   "source": [
    "# just use some python to create a bounding box string\n",
    "jak_bbox=(-212483.24,-2334797.72,-57857.51,-2209489.29)\n",
    "\n",
    "psx_ll, psy_ll, psx_ur, psy_ur = jak_bbox\n",
    "\n",
    "          \n",
    "coords = \"{0} {1},\".format(psx_ll, psy_ll) + \\\n",
    "    \"{0} {1},\".format(psx_ll, psy_ur) + \\\n",
    "    \"{0} {1},\".format(psx_ur, psy_ur) + \\\n",
    "    \"{0} {1},\".format(psx_ur, psy_ll) + \\\n",
    "    \"{0} {1}\".format(psx_ll, psy_ll)\n",
    "    \n",
    "bbox = \"ST_MakePolygon(ST_GeomFromText('LINESTRING({0})',3413))\".format(coords)\n",
    "print bbox"
   ]
  },
  {
   "cell_type": "markdown",
   "metadata": {
    "collapsed": true
   },
   "source": [
    "Given this polygon the SQL query to extract the point would be something like the following:\n",
    "\n",
    "    select count(*) from gla06_034_grn where\n",
    "    ST_Contains(ST_MakePolygon(ST_GeomFromText(\n",
    "    'LINESTRING(-212483.24 -2334797.72,-212483.24 -2209489.29,-57857.51 \n",
    "    -2209489.29,-57857.51 -2334797.72,-212483.24 -2334797.72)',3413)),\n",
    "    the_geom);\n",
    "    \n",
    "The `gla06_034_grn` table has 45,685,416 rows.  This query took about 40 seconds and returned 86,889 rows.  Note this is a rather large box just east of the Jakobshavn Fjord.  Find the middle point then create a smaller box (10km x 10km) and retry query.  "
   ]
  },
  {
   "cell_type": "code",
   "execution_count": 59,
   "metadata": {
    "collapsed": false,
    "scrolled": false
   },
   "outputs": [
    {
     "name": "stdout",
     "output_type": "stream",
     "text": [
      "-135170.375 -2272143.505\n",
      "ST_MakePolygon(ST_GeomFromText('LINESTRING(-140170.375 -2277143.505,-140170.375 -2267143.505,-130170.375 -2267143.505,-130170.375 -2277143.505,-140170.375 -2277143.505)',3413))\n",
      "select count(*) from gla06_034_grn where ST_Contains(ST_MakePolygon(ST_GeomFromText('LINESTRING(-140170.375 -2277143.505,-140170.375 -2267143.505,-130170.375 -2267143.505,-130170.375 -2277143.505,-140170.375 -2277143.505)',3413)),the_geom);\n"
     ]
    }
   ],
   "source": [
    "cntr_x = jak_bbox[0] + (jak_bbox[2] - jak_bbox[0])/2.\n",
    "cntr_y = jak_bbox[1] + (jak_bbox[3] - jak_bbox[1])/2.\n",
    "print cntr_x, cntr_y\n",
    "\n",
    "# for GLAS06 data try a grid size of 20km\n",
    "grid_xsize = 10000.\n",
    "grid_ysize = grid_xsize\n",
    "grid_dx = grid_xsize / 2.\n",
    "grid_dy = grid_ysize / 2.\n",
    "jak_bbox = [cntr_x - grid_dx, cntr_y - grid_dy, cntr_x + grid_dx, cntr_y + grid_dy]\n",
    "\n",
    "psx_ll, psy_ll, psx_ur, psy_ur = jak_bbox\n",
    "\n",
    "coords = \"{0} {1},\".format(psx_ll, psy_ll) + \\\n",
    "    \"{0} {1},\".format(psx_ll, psy_ur) + \\\n",
    "    \"{0} {1},\".format(psx_ur, psy_ur) + \\\n",
    "    \"{0} {1},\".format(psx_ur, psy_ll) + \\\n",
    "    \"{0} {1}\".format(psx_ll, psy_ll)\n",
    "  \n",
    "bbox = \"ST_MakePolygon(ST_GeomFromText('LINESTRING({0})',3413))\".format(coords)\n",
    "print bbox\n",
    "query = \"select count(*) from gla06_034_grn where ST_Contains({0},the_geom);\"\n",
    "query = query.format(bbox)\n",
    "print query"
   ]
  },
  {
   "cell_type": "markdown",
   "metadata": {},
   "source": [
    "This query resulted in 431 rows returned. \n",
    "\n",
    "Our goal is to difference the surface elevation from each of these 431 shots with the GIMP DEM elevation at that location AND come up with a measure of the difference between the surface at each date and GIMP.  That could be as simple as the mean and standard deviation of all the difference for all the points.  Or a weighted mean and standard deviation where the weight is the normalized inverse distance from the cell center."
   ]
  },
  {
   "cell_type": "code",
   "execution_count": 60,
   "metadata": {
    "collapsed": true
   },
   "outputs": [],
   "source": [
    "import psycopg2\n",
    "import numpy as np\n",
    "\n",
    "DBNAME = 'icedb'\n",
    "DBHOST = 'icebridge.sr.unh.edu'\n",
    "DBUSER = 'nobody'\n",
    "DBPORT = '5432'\n",
    "EPSG_CODE = 3413\n",
    "\n",
    "# make database connection\n",
    "conn_str = 'host={0} dbname={1} user={2}'.format(DBHOST, DBNAME, DBUSER)\n",
    "try:\n",
    "    conn = psycopg2.connect(conn_str)\n",
    "except:\n",
    "    print \"connection to database failed\""
   ]
  },
  {
   "cell_type": "code",
   "execution_count": 61,
   "metadata": {
    "collapsed": false,
    "scrolled": false
   },
   "outputs": [
    {
     "name": "stdout",
     "output_type": "stream",
     "text": [
      "[(431L,)]\n"
     ]
    }
   ],
   "source": [
    "# set up cursor for query\n",
    "mycur = conn.cursor()\n",
    "query = \"select count(*) from gla06_034_grn where ST_Contains({0},the_geom);\"\n",
    "query = query.format(bbox)\n",
    "\n",
    "mycur.execute(query)\n",
    "results = mycur.fetchall()\n",
    "print results\n",
    "mycur.close()"
   ]
  },
  {
   "cell_type": "code",
   "execution_count": 62,
   "metadata": {
    "collapsed": false,
    "scrolled": true
   },
   "outputs": [
    {
     "name": "stdout",
     "output_type": "stream",
     "text": [
      "select ST_Y(the_geom) as psx, ST_X(the_geom) as psy, utc_time::date as fltdate, corr_elev as elevation, wgs84surf from gla06_034_grn where ST_Contains(ST_MakePolygon(ST_GeomFromText('LINESTRING(-140170.375 -2277143.505,-140170.375 -2267143.505,-130170.375 -2267143.505,-130170.375 -2277143.505,-140170.375 -2277143.505)',3413)),the_geom);\n",
      "(-2270746.90909522, -138689.311666585, datetime.date(2006, 11, 12), 1199.921, 1196)\n",
      "431\n"
     ]
    }
   ],
   "source": [
    "mycur = conn.cursor()\n",
    "query = \"select ST_Y(the_geom) as psx, ST_X(the_geom) as psy, utc_time::date as fltdate, \" + \\\n",
    "    \"corr_elev as elevation, wgs84surf from gla06_034_grn \" + \\\n",
    "    \"where ST_Contains({0},the_geom);\"\n",
    "query = query.format(bbox)\n",
    "print query\n",
    "mycur.execute(query)\n",
    "results = mycur.fetchall()\n",
    "mycur.close()\n",
    "print results[0]\n",
    "print len(results)"
   ]
  },
  {
   "cell_type": "code",
   "execution_count": 63,
   "metadata": {
    "collapsed": false
   },
   "outputs": [
    {
     "name": "stdout",
     "output_type": "stream",
     "text": [
      "psx                 float64\n",
      "psy                 float64\n",
      "fltdate      datetime64[ns]\n",
      "elevation           float64\n",
      "wgs84surf             int64\n",
      "delta               float64\n",
      "dtype: object\n"
     ]
    },
    {
     "data": {
      "text/html": [
       "<div>\n",
       "<table border=\"1\" class=\"dataframe\">\n",
       "  <thead>\n",
       "    <tr style=\"text-align: right;\">\n",
       "      <th></th>\n",
       "      <th>psx</th>\n",
       "      <th>psy</th>\n",
       "      <th>fltdate</th>\n",
       "      <th>elevation</th>\n",
       "      <th>wgs84surf</th>\n",
       "      <th>delta</th>\n",
       "    </tr>\n",
       "  </thead>\n",
       "  <tbody>\n",
       "    <tr>\n",
       "      <th>0</th>\n",
       "      <td>-2270746.909095</td>\n",
       "      <td>-138689.311667</td>\n",
       "      <td>2006-11-12</td>\n",
       "      <td>1199.921</td>\n",
       "      <td>1196</td>\n",
       "      <td>3.921</td>\n",
       "    </tr>\n",
       "    <tr>\n",
       "      <th>1</th>\n",
       "      <td>-2273761.669764</td>\n",
       "      <td>-139554.673419</td>\n",
       "      <td>2006-11-12</td>\n",
       "      <td>1191.067</td>\n",
       "      <td>1192</td>\n",
       "      <td>-0.933</td>\n",
       "    </tr>\n",
       "    <tr>\n",
       "      <th>2</th>\n",
       "      <td>-2273928.724096</td>\n",
       "      <td>-139602.214079</td>\n",
       "      <td>2006-11-12</td>\n",
       "      <td>1192.488</td>\n",
       "      <td>1193</td>\n",
       "      <td>-0.512</td>\n",
       "    </tr>\n",
       "    <tr>\n",
       "      <th>3</th>\n",
       "      <td>-2274983.421874</td>\n",
       "      <td>-140088.920710</td>\n",
       "      <td>2005-06-08</td>\n",
       "      <td>1223.030</td>\n",
       "      <td>1219</td>\n",
       "      <td>4.030</td>\n",
       "    </tr>\n",
       "    <tr>\n",
       "      <th>4</th>\n",
       "      <td>-2275150.327812</td>\n",
       "      <td>-140137.025085</td>\n",
       "      <td>2005-06-08</td>\n",
       "      <td>1226.587</td>\n",
       "      <td>1222</td>\n",
       "      <td>4.587</td>\n",
       "    </tr>\n",
       "  </tbody>\n",
       "</table>\n",
       "</div>"
      ],
      "text/plain": [
       "              psx            psy    fltdate  elevation  wgs84surf  delta\n",
       "0 -2270746.909095 -138689.311667 2006-11-12   1199.921       1196  3.921\n",
       "1 -2273761.669764 -139554.673419 2006-11-12   1191.067       1192 -0.933\n",
       "2 -2273928.724096 -139602.214079 2006-11-12   1192.488       1193 -0.512\n",
       "3 -2274983.421874 -140088.920710 2005-06-08   1223.030       1219  4.030\n",
       "4 -2275150.327812 -140137.025085 2005-06-08   1226.587       1222  4.587"
      ]
     },
     "execution_count": 63,
     "metadata": {},
     "output_type": "execute_result"
    }
   ],
   "source": [
    "import pandas as pd\n",
    "data = pd.DataFrame(results,\n",
    "                    columns=['psx','psy','fltdate','elevation','wgs84surf'])\n",
    "data['fltdate'] = pd.to_datetime(data['fltdate'])\n",
    "data['delta'] = data['elevation'] - data['wgs84surf']\n",
    "print data.dtypes\n",
    "data.head()"
   ]
  },
  {
   "cell_type": "code",
   "execution_count": 64,
   "metadata": {
    "collapsed": false
   },
   "outputs": [
    {
     "data": {
      "text/plain": [
       "<matplotlib.collections.PathCollection at 0x1068b3810>"
      ]
     },
     "execution_count": 64,
     "metadata": {},
     "output_type": "execute_result"
    },
    {
     "data": {
      "image/png": "[encoded data removed]",
      "text/plain": [
       "<matplotlib.figure.Figure at 0x107a760d0>"
      ]
     },
     "metadata": {},
     "output_type": "display_data"
    }
   ],
   "source": [
    "%matplotlib inline\n",
    "import matplotlib.pyplot as plt\n",
    "plt.scatter(data['psx'], data['psy'])"
   ]
  },
  {
   "cell_type": "code",
   "execution_count": 65,
   "metadata": {
    "collapsed": false
   },
   "outputs": [
    {
     "data": {
      "text/plain": [
       "[<matplotlib.lines.Line2D at 0x106fa79d0>]"
      ]
     },
     "execution_count": 65,
     "metadata": {},
     "output_type": "execute_result"
    },
    {
     "data": {
      "image/png": "[encoded data removed]",
      "text/plain": [
       "<matplotlib.figure.Figure at 0x106519d50>"
      ]
     },
     "metadata": {},
     "output_type": "display_data"
    }
   ],
   "source": [
    "plt.figure(figsize=[10,6])\n",
    "plt.plot(data['fltdate'], data['delta'], 'ro')"
   ]
  },
  {
   "cell_type": "markdown",
   "metadata": {
    "collapsed": true
   },
   "source": [
    "Wow, this looks like a nice linear trend.  Try fitting a linear model to the data."
   ]
  },
  {
   "cell_type": "code",
   "execution_count": null,
   "metadata": {
    "collapsed": true
   },
   "outputs": [],
   "source": []
  }
 ],
 "metadata": {
  "kernelspec": {
   "display_name": "Python 2",
   "language": "python",
   "name": "python2"
  },
  "language_info": {
   "codemirror_mode": {
    "name": "ipython",
    "version": 2
   },
   "file_extension": ".py",
   "mimetype": "text/x-python",
   "name": "python",
   "nbconvert_exporter": "python",
   "pygments_lexer": "ipython2",
   "version": "2.7.9"
  }
 },
 "nbformat": 4,
 "nbformat_minor": 0
}
