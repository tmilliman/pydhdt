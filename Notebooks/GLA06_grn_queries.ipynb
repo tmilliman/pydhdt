{
 "cells": [
  {
   "cell_type": "markdown",
   "metadata": {},
   "source": [
    "## Spatial Query of GLA06 Data for Greenland\n",
    "\n",
    "Because of the large volume of data, the GLA06 data were imported using a separate table for each laser epoch.  For this project I'm just interested in Greenland data so I've copied the data into a single table, `gla06_034_grn`.  I've also converted the geometry field from the original lat-lon to EPSG:3413 (north polar stereo).\n",
    "\n",
    "To make it even easier I'm just starting with a box in PS coords."
   ]
  },
  {
   "cell_type": "code",
   "execution_count": 1,
   "metadata": {
    "collapsed": false
   },
   "outputs": [
    {
     "name": "stdout",
     "output_type": "stream",
     "text": [
      "ST_MakePolygon(ST_GeomFromText('LINESTRING(-212483.24 -2334797.72,-212483.24 -2209489.29,-57857.51 -2209489.29,-57857.51 -2334797.72,-212483.24 -2334797.72)',3413))\n"
     ]
    }
   ],
   "source": [
    "# just use some python to create a bounding box string\n",
    "jak_bbox=(-212483.24,-2334797.72,-57857.51,-2209489.29)\n",
    "\n",
    "psx_ll, psy_ll, psx_ur, psy_ur = jak_bbox\n",
    "\n",
    "          \n",
    "coords = \"{0} {1},\".format(psx_ll, psy_ll) + \\\n",
    "    \"{0} {1},\".format(psx_ll, psy_ur) + \\\n",
    "    \"{0} {1},\".format(psx_ur, psy_ur) + \\\n",
    "    \"{0} {1},\".format(psx_ur, psy_ll) + \\\n",
    "    \"{0} {1}\".format(psx_ll, psy_ll)\n",
    "    \n",
    "bbox = \"ST_MakePolygon(ST_GeomFromText('LINESTRING({0})',3413))\".format(coords)\n",
    "print bbox"
   ]
  },
  {
   "cell_type": "markdown",
   "metadata": {
    "collapsed": true
   },
   "source": [
    "Given this polygon the SQL query to extract the point would be something like the following:\n",
    "\n",
    "    select count(*) from gla06_034_grn where\n",
    "    ST_Contains(ST_MakePolygon(ST_GeomFromText(\n",
    "    'LINESTRING(-212483.24 -2334797.72,-212483.24 -2209489.29,-57857.51 \n",
    "    -2209489.29,-57857.51 -2334797.72,-212483.24 -2334797.72)',3413)),\n",
    "    the_geom);\n",
    "    \n",
    "The `gla06_034_grn` table has 45,685,416 rows.  This query took about 40 seconds and returned 86,889 rows.  Note this is a rather large box just east of the Jakobshavn Fjord.  Find the middle point then create a smaller box (10km x 10km) and retry query.  "
   ]
  },
  {
   "cell_type": "code",
   "execution_count": 13,
   "metadata": {
    "collapsed": false,
    "scrolled": false
   },
   "outputs": [
    {
     "name": "stdout",
     "output_type": "stream",
     "text": [
      "-135170.375 -2272143.505\n",
      "ST_MakePolygon(ST_GeomFromText('LINESTRING(-140170.375 -2277143.505,-140170.375 -2267143.505,-130170.375 -2267143.505,-130170.375 -2277143.505,-140170.375 -2277143.505)',3413))\n",
      "select count(*) from gla06_034_grn where ST_Contains(ST_MakePolygon(ST_GeomFromText('LINESTRING(-140170.375 -2277143.505,-140170.375 -2267143.505,-130170.375 -2267143.505,-130170.375 -2277143.505,-140170.375 -2277143.505)',3413)),the_geom);\n"
     ]
    }
   ],
   "source": [
    "cntr_x = jak_bbox[0] + (jak_bbox[2] - jak_bbox[0])/2.\n",
    "cntr_y = jak_bbox[1] + (jak_bbox[3] - jak_bbox[1])/2.\n",
    "print cntr_x, cntr_y\n",
    "\n",
    "# for GLAS06 data try a grid size of 20km\n",
    "grid_xsize = 10000.\n",
    "grid_ysize = grid_xsize\n",
    "grid_dx = grid_xsize / 2.\n",
    "grid_dy = grid_ysize / 2.\n",
    "jak_bbox = [cntr_x - grid_dx, cntr_y - grid_dy, cntr_x + grid_dx, cntr_y + grid_dy]\n",
    "\n",
    "psx_ll, psy_ll, psx_ur, psy_ur = jak_bbox\n",
    "\n",
    "# shift \n",
    "\n",
    "coords = \"{0} {1},\".format(psx_ll, psy_ll) + \\\n",
    "    \"{0} {1},\".format(psx_ll, psy_ur) + \\\n",
    "    \"{0} {1},\".format(psx_ur, psy_ur) + \\\n",
    "    \"{0} {1},\".format(psx_ur, psy_ll) + \\\n",
    "    \"{0} {1}\".format(psx_ll, psy_ll)\n",
    "  \n",
    "bbox = \"ST_MakePolygon(ST_GeomFromText('LINESTRING({0})',3413))\".format(coords)\n",
    "print bbox\n",
    "query = \"select count(*) from gla06_034_grn where ST_Contains({0},the_geom);\"\n",
    "query = query.format(bbox)\n",
    "print query"
   ]
  },
  {
   "cell_type": "markdown",
   "metadata": {},
   "source": [
    "This query resulted in 431 rows returned. \n",
    "\n",
    "Our goal is to difference the surface elevation from each of these 431 shots with the GIMP DEM elevation at that location AND come up with a measure of the difference between the surface at each date and GIMP.  That could be as simple as the mean and standard deviation of all the difference for all the points.  Or a weighted mean and standard deviation where the weight is the normalized inverse distance from the cell center."
   ]
  },
  {
   "cell_type": "code",
   "execution_count": 14,
   "metadata": {
    "collapsed": true
   },
   "outputs": [],
   "source": [
    "import psycopg2\n",
    "import numpy as np\n",
    "\n",
    "DBNAME = 'icedb'\n",
    "DBHOST = 'icebridge.sr.unh.edu'\n",
    "DBUSER = 'nobody'\n",
    "DBPORT = '5432'\n",
    "EPSG_CODE = 3413\n",
    "\n",
    "# make database connection\n",
    "conn_str = 'host={0} dbname={1} user={2}'.format(DBHOST, DBNAME, DBUSER)\n",
    "try:\n",
    "    conn = psycopg2.connect(conn_str)\n",
    "except:\n",
    "    print \"connection to database failed\""
   ]
  },
  {
   "cell_type": "code",
   "execution_count": 15,
   "metadata": {
    "collapsed": false,
    "scrolled": false
   },
   "outputs": [
    {
     "name": "stdout",
     "output_type": "stream",
     "text": [
      "[(431L,)]\n"
     ]
    }
   ],
   "source": [
    "# set up cursor for query\n",
    "mycur = conn.cursor()\n",
    "query = \"select count(*) from gla06_034_grn where ST_Contains({0},the_geom);\"\n",
    "query = query.format(bbox)\n",
    "\n",
    "mycur.execute(query)\n",
    "results = mycur.fetchall()\n",
    "print results\n",
    "mycur.close()"
   ]
  },
  {
   "cell_type": "code",
   "execution_count": 16,
   "metadata": {
    "collapsed": false,
    "scrolled": true
   },
   "outputs": [
    {
     "name": "stdout",
     "output_type": "stream",
     "text": [
      "select ST_Y(the_geom) as psx, ST_X(the_geom) as psy, utc_time::date as fltdate, corr_elev as elevation, wgs84surf from gla06_034_grn where ST_Contains(ST_MakePolygon(ST_GeomFromText('LINESTRING(-140170.375 -2277143.505,-140170.375 -2267143.505,-130170.375 -2267143.505,-130170.375 -2277143.505,-140170.375 -2277143.505)',3413)),the_geom) order by fltdate;\n",
      "(-2268241.79636851, -140091.440230393, datetime.date(2003, 3, 8), 1235.628, 1217)\n",
      "431\n"
     ]
    }
   ],
   "source": [
    "mycur = conn.cursor()\n",
    "query = \"select ST_Y(the_geom) as psx, ST_X(the_geom) as psy, utc_time::date as fltdate, \" + \\\n",
    "    \"corr_elev as elevation, wgs84surf from gla06_034_grn \" + \\\n",
    "    \"where ST_Contains({0},the_geom) order by fltdate;\"\n",
    "query = query.format(bbox)\n",
    "print query\n",
    "mycur.execute(query)\n",
    "results = mycur.fetchall()\n",
    "mycur.close()\n",
    "print results[0]\n",
    "print len(results)"
   ]
  },
  {
   "cell_type": "code",
   "execution_count": 17,
   "metadata": {
    "collapsed": false
   },
   "outputs": [
    {
     "name": "stdout",
     "output_type": "stream",
     "text": [
      "psx                 float64\n",
      "psy                 float64\n",
      "fltdate      datetime64[ns]\n",
      "elevation           float64\n",
      "wgs84surf             int64\n",
      "delta               float64\n",
      "dtype: object\n"
     ]
    },
    {
     "data": {
      "text/html": [
       "<div>\n",
       "<table border=\"1\" class=\"dataframe\">\n",
       "  <thead>\n",
       "    <tr style=\"text-align: right;\">\n",
       "      <th></th>\n",
       "      <th>psx</th>\n",
       "      <th>psy</th>\n",
       "      <th>fltdate</th>\n",
       "      <th>elevation</th>\n",
       "      <th>wgs84surf</th>\n",
       "      <th>delta</th>\n",
       "    </tr>\n",
       "  </thead>\n",
       "  <tbody>\n",
       "    <tr>\n",
       "      <th>0</th>\n",
       "      <td>-2268241.796369</td>\n",
       "      <td>-140091.440230</td>\n",
       "      <td>2003-03-08</td>\n",
       "      <td>1235.628</td>\n",
       "      <td>1217</td>\n",
       "      <td>18.628</td>\n",
       "    </tr>\n",
       "    <tr>\n",
       "      <th>1</th>\n",
       "      <td>-2268074.324010</td>\n",
       "      <td>-140044.062526</td>\n",
       "      <td>2003-03-08</td>\n",
       "      <td>1236.018</td>\n",
       "      <td>1217</td>\n",
       "      <td>19.018</td>\n",
       "    </tr>\n",
       "    <tr>\n",
       "      <th>2</th>\n",
       "      <td>-2267906.851505</td>\n",
       "      <td>-139996.690356</td>\n",
       "      <td>2003-03-08</td>\n",
       "      <td>1237.296</td>\n",
       "      <td>1217</td>\n",
       "      <td>20.296</td>\n",
       "    </tr>\n",
       "    <tr>\n",
       "      <th>3</th>\n",
       "      <td>-2267237.360708</td>\n",
       "      <td>-139806.209255</td>\n",
       "      <td>2003-03-08</td>\n",
       "      <td>1242.419</td>\n",
       "      <td>1224</td>\n",
       "      <td>18.419</td>\n",
       "    </tr>\n",
       "    <tr>\n",
       "      <th>4</th>\n",
       "      <td>-2267572.037192</td>\n",
       "      <td>-139901.652892</td>\n",
       "      <td>2003-03-08</td>\n",
       "      <td>1238.766</td>\n",
       "      <td>1219</td>\n",
       "      <td>19.766</td>\n",
       "    </tr>\n",
       "  </tbody>\n",
       "</table>\n",
       "</div>"
      ],
      "text/plain": [
       "              psx            psy    fltdate  elevation  wgs84surf   delta\n",
       "0 -2268241.796369 -140091.440230 2003-03-08   1235.628       1217  18.628\n",
       "1 -2268074.324010 -140044.062526 2003-03-08   1236.018       1217  19.018\n",
       "2 -2267906.851505 -139996.690356 2003-03-08   1237.296       1217  20.296\n",
       "3 -2267237.360708 -139806.209255 2003-03-08   1242.419       1224  18.419\n",
       "4 -2267572.037192 -139901.652892 2003-03-08   1238.766       1219  19.766"
      ]
     },
     "execution_count": 17,
     "metadata": {},
     "output_type": "execute_result"
    }
   ],
   "source": [
    "import pandas as pd\n",
    "data = pd.DataFrame(results,\n",
    "                    columns=['psx','psy','fltdate','elevation','wgs84surf'])\n",
    "data['fltdate'] = pd.to_datetime(data['fltdate'])\n",
    "data['delta'] = data['elevation'] - data['wgs84surf']\n",
    "print data.dtypes\n",
    "data.head()"
   ]
  },
  {
   "cell_type": "code",
   "execution_count": 18,
   "metadata": {
    "collapsed": false
   },
   "outputs": [
    {
     "data": {
      "text/plain": [
       "<matplotlib.collections.PathCollection at 0x108536c90>"
      ]
     },
     "execution_count": 18,
     "metadata": {},
     "output_type": "execute_result"
    },
    {
     "data": {
      "image/png": "[encoded data removed]",
      "text/plain": [
       "<matplotlib.figure.Figure at 0x1084ee690>"
      ]
     },
     "metadata": {},
     "output_type": "display_data"
    }
   ],
   "source": [
    "%matplotlib inline\n",
    "import matplotlib.pyplot as plt\n",
    "plt.scatter(data['psx'], data['psy'])"
   ]
  },
  {
   "cell_type": "code",
   "execution_count": 19,
   "metadata": {
    "collapsed": false
   },
   "outputs": [
    {
     "data": {
      "text/plain": [
       "[<matplotlib.lines.Line2D at 0x108687d10>]"
      ]
     },
     "execution_count": 19,
     "metadata": {},
     "output_type": "execute_result"
    },
    {
     "data": {
      "image/png": "[encoded data removed]",
      "text/plain": [
       "<matplotlib.figure.Figure at 0x108500690>"
      ]
     },
     "metadata": {},
     "output_type": "display_data"
    }
   ],
   "source": [
    "plt.figure(figsize=[10,6])\n",
    "plt.plot(data['fltdate'], data['delta'], 'ro')"
   ]
  },
  {
   "cell_type": "markdown",
   "metadata": {
    "collapsed": true
   },
   "source": [
    "Wow, this looks like a nice linear trend.  Try fitting a linear model to the data."
   ]
  },
  {
   "cell_type": "code",
   "execution_count": 20,
   "metadata": {
    "collapsed": false
   },
   "outputs": [
    {
     "name": "stdout",
     "output_type": "stream",
     "text": [
      "66.0\n"
     ]
    }
   ],
   "source": [
    "data['days_since'] = (data.fltdate - pd.to_datetime('2003-01-01') ).astype('timedelta64[D]')\n",
    "print data.days_since[0]"
   ]
  },
  {
   "cell_type": "code",
   "execution_count": 21,
   "metadata": {
    "collapsed": false
   },
   "outputs": [
    {
     "name": "stdout",
     "output_type": "stream",
     "text": [
      "-4.73497344273 20.4556056597 0.905754999833 3.84820073564e-222 0.000202031843495\n"
     ]
    }
   ],
   "source": [
    "from scipy import stats\n",
    "slope, intercept, r_value, p_value, std_err = stats.linregress(data.days_since, data.delta)\n",
    "\n",
    "print slope*365., intercept, r_value * r_value, p_value, std_err"
   ]
  },
  {
   "cell_type": "markdown",
   "metadata": {},
   "source": [
    "So we're looking at a surface drop of almost 5m/year!"
   ]
  },
  {
   "cell_type": "code",
   "execution_count": null,
   "metadata": {
    "collapsed": true
   },
   "outputs": [],
   "source": []
  }
 ],
 "metadata": {
  "kernelspec": {
   "display_name": "Python 2",
   "language": "python",
   "name": "python2"
  },
  "language_info": {
   "codemirror_mode": {
    "name": "ipython",
    "version": 2
   },
   "file_extension": ".py",
   "mimetype": "text/x-python",
   "name": "python",
   "nbconvert_exporter": "python",
   "pygments_lexer": "ipython2",
   "version": "2.7.9"
  }
 },
 "nbformat": 4,
 "nbformat_minor": 0
}
